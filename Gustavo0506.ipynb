{
 "cells": [
  {
   "cell_type": "code",
   "execution_count": 1,
   "id": "2b244902-3f75-4814-b2f8-6e1973940657",
   "metadata": {},
   "outputs": [
    {
     "name": "stderr",
     "output_type": "stream",
     "text": [
      "/tmp/ipykernel_50468/1025452113.py:11: DtypeWarning: Columns (5,9) have mixed types. Specify dtype option on import or set low_memory=False.\n",
      "  data=pd.read_csv(url)\n"
     ]
    }
   ],
   "source": [
    "import pandas as pd\n",
    "import numpy as np\n",
    "import matplotlib.pyplot as plt\n",
    "from sklearn.model_selection import train_test_split, cross_val_score\n",
    "from sklearn.metrics import mean_absolute_error, mean_squared_error\n",
    "from sklearn.multioutput import MultiOutputRegressor\n",
    "from sklearn.preprocessing import StandardScaler\n",
    "import xgboost as xgb\n",
    "\n",
    "url='/home/gustavolamonica/code/Glamonica123/ET_Predictor/raw_data/scrubbed.csv'\n",
    "data=pd.read_csv(url)"
   ]
  },
  {
   "cell_type": "code",
   "execution_count": 2,
   "id": "77cc59a8-1858-4303-a80d-8c0750a13e45",
   "metadata": {},
   "outputs": [],
   "source": [
    "def clean_data(value):\n",
    "    try:\n",
    "        # Attempt to convert directly\n",
    "        return float(value)\n",
    "    except ValueError:\n",
    "        # Remove non-numeric characters and try conversion\n",
    "        cleaned_value = ''.join(char for char in value if char.isdigit() or char == '.')\n",
    "        try:\n",
    "            return float(cleaned_value)\n",
    "        except ValueError:\n",
    "            # If conversion fails, return NaN\n",
    "            return float('nan')\n",
    "data['latitude']=data['latitude'].apply(clean_data)\n",
    "data['duration (seconds)']=data['duration (seconds)'].apply(clean_data)\n",
    "data=data[data['country']=='us']\n",
    "data.drop(columns=['date posted', 'comments', 'duration (hours/min)', 'shape','country','state','city'], inplace=True)\n",
    "data=data[data['duration (seconds)']<=10000]"
   ]
  },
  {
   "cell_type": "code",
   "execution_count": 3,
   "id": "88d89157-fcae-4948-8aff-86e5b862bd9c",
   "metadata": {},
   "outputs": [
    {
     "data": {
      "text/plain": [
       "datetime               object\n",
       "duration (seconds)    float64\n",
       "latitude              float64\n",
       "longitude             float64\n",
       "dtype: object"
      ]
     },
     "execution_count": 3,
     "metadata": {},
     "output_type": "execute_result"
    }
   ],
   "source": [
    "data.dtypes"
   ]
  },
  {
   "cell_type": "code",
   "execution_count": 4,
   "id": "fb49be67-0279-4d6a-9949-91a61c560204",
   "metadata": {},
   "outputs": [
    {
     "data": {
      "text/html": [
       "<div>\n",
       "<style scoped>\n",
       "    .dataframe tbody tr th:only-of-type {\n",
       "        vertical-align: middle;\n",
       "    }\n",
       "\n",
       "    .dataframe tbody tr th {\n",
       "        vertical-align: top;\n",
       "    }\n",
       "\n",
       "    .dataframe thead th {\n",
       "        text-align: right;\n",
       "    }\n",
       "</style>\n",
       "<table border=\"1\" class=\"dataframe\">\n",
       "  <thead>\n",
       "    <tr style=\"text-align: right;\">\n",
       "      <th></th>\n",
       "      <th>datetime</th>\n",
       "      <th>duration (seconds)</th>\n",
       "      <th>latitude</th>\n",
       "      <th>longitude</th>\n",
       "    </tr>\n",
       "  </thead>\n",
       "  <tbody>\n",
       "    <tr>\n",
       "      <th>0</th>\n",
       "      <td>10/10/1949 20:30</td>\n",
       "      <td>2700.0</td>\n",
       "      <td>29.883056</td>\n",
       "      <td>-97.941111</td>\n",
       "    </tr>\n",
       "    <tr>\n",
       "      <th>3</th>\n",
       "      <td>10/10/1956 21:00</td>\n",
       "      <td>20.0</td>\n",
       "      <td>28.978333</td>\n",
       "      <td>-96.645833</td>\n",
       "    </tr>\n",
       "    <tr>\n",
       "      <th>4</th>\n",
       "      <td>10/10/1960 20:00</td>\n",
       "      <td>900.0</td>\n",
       "      <td>21.418056</td>\n",
       "      <td>-157.803611</td>\n",
       "    </tr>\n",
       "    <tr>\n",
       "      <th>5</th>\n",
       "      <td>10/10/1961 19:00</td>\n",
       "      <td>300.0</td>\n",
       "      <td>36.595000</td>\n",
       "      <td>-82.188889</td>\n",
       "    </tr>\n",
       "    <tr>\n",
       "      <th>7</th>\n",
       "      <td>10/10/1965 23:45</td>\n",
       "      <td>1200.0</td>\n",
       "      <td>41.117500</td>\n",
       "      <td>-73.408333</td>\n",
       "    </tr>\n",
       "  </tbody>\n",
       "</table>\n",
       "</div>"
      ],
      "text/plain": [
       "           datetime  duration (seconds)   latitude  longitude \n",
       "0  10/10/1949 20:30              2700.0  29.883056  -97.941111\n",
       "3  10/10/1956 21:00                20.0  28.978333  -96.645833\n",
       "4  10/10/1960 20:00               900.0  21.418056 -157.803611\n",
       "5  10/10/1961 19:00               300.0  36.595000  -82.188889\n",
       "7  10/10/1965 23:45              1200.0  41.117500  -73.408333"
      ]
     },
     "execution_count": 4,
     "metadata": {},
     "output_type": "execute_result"
    }
   ],
   "source": [
    "data.head()"
   ]
  },
  {
   "cell_type": "code",
   "execution_count": 21,
   "id": "bf2653c0-5d5d-4c3a-b1a9-bc2f87c88d46",
   "metadata": {},
   "outputs": [
    {
     "name": "stdout",
     "output_type": "stream",
     "text": [
      "<class 'pandas.core.frame.DataFrame'>\n",
      "Index: 63987 entries, 0 to 80331\n",
      "Data columns (total 13 columns):\n",
      " #   Column              Non-Null Count  Dtype  \n",
      "---  ------              --------------  -----  \n",
      " 0   duration (seconds)  63987 non-null  float64\n",
      " 1   latitude            63987 non-null  float64\n",
      " 2   longitude           63987 non-null  float64\n",
      " 3   year                63987 non-null  float64\n",
      " 4   hour                63987 non-null  float64\n",
      " 5   dayofyear_sin       63987 non-null  float64\n",
      " 6   dayofyear_cos       63987 non-null  float64\n",
      " 7   month_sin           63987 non-null  float64\n",
      " 8   month_cos           63987 non-null  float64\n",
      " 9   day_sin             63987 non-null  float64\n",
      " 10  day_cos             63987 non-null  float64\n",
      " 11  dayofweek_sin       63987 non-null  float64\n",
      " 12  dayofweek_cos       63987 non-null  float64\n",
      "dtypes: float64(13)\n",
      "memory usage: 6.8 MB\n"
     ]
    }
   ],
   "source": [
    "data.info()"
   ]
  },
  {
   "cell_type": "code",
   "execution_count": 20,
   "id": "46ca2939-a4d5-4f18-b411-1b4d0b16cfc8",
   "metadata": {},
   "outputs": [
    {
     "data": {
      "text/plain": [
       "duration (seconds)    0\n",
       "latitude              0\n",
       "longitude             0\n",
       "year                  0\n",
       "hour                  0\n",
       "dayofyear_sin         0\n",
       "dayofyear_cos         0\n",
       "month_sin             0\n",
       "month_cos             0\n",
       "day_sin               0\n",
       "day_cos               0\n",
       "dayofweek_sin         0\n",
       "dayofweek_cos         0\n",
       "dtype: int64"
      ]
     },
     "execution_count": 20,
     "metadata": {},
     "output_type": "execute_result"
    }
   ],
   "source": [
    "data.isna().sum()"
   ]
  },
  {
   "cell_type": "code",
   "execution_count": 7,
   "id": "fc9edc98-6f35-48d5-8b6a-f999480762b0",
   "metadata": {},
   "outputs": [],
   "source": [
    "def preprocess_datetime(datetime_str):\n",
    "    date_part, time_part = datetime_str.split()\n",
    "    hours, minutes = map(int, time_part.split(':'))\n",
    "    \n",
    "    # Check if time is irregular (greater than 24 hours)\n",
    "    if hours >= 24:\n",
    "        # Calculate extra days and remaining hours\n",
    "        extra_days, hours = divmod(hours, 24)\n",
    "        # Add extra days to the date\n",
    "        next_date = pd.to_datetime(date_part, format='%m/%d/%Y') + pd.Timedelta(days=extra_days)\n",
    "        # Return the new datetime string\n",
    "        return next_date.strftime('%m/%d/%Y %H:%M')\n",
    "    else:\n",
    "        return datetime_str\n",
    "\n",
    "# Apply the preprocessing function to the datetime column\n",
    "data['datetime'] = data['datetime'].apply(preprocess_datetime)"
   ]
  },
  {
   "cell_type": "code",
   "execution_count": 8,
   "id": "6d6341a1-05aa-4634-834d-4492f214a52f",
   "metadata": {},
   "outputs": [
    {
     "data": {
      "image/png": "[encoded data removed]",
      "text/plain": [
       "<Figure size 640x480 with 1 Axes>"
      ]
     },
     "metadata": {},
     "output_type": "display_data"
    }
   ],
   "source": [
    "plt.hist(data['duration (seconds)']);"
   ]
  },
  {
   "cell_type": "code",
   "execution_count": 9,
   "id": "628ca8d8-80a5-4f6c-b331-3a66b9c598dc",
   "metadata": {},
   "outputs": [],
   "source": [
    "data.to_csv('preprocessing05.csv', index=False)"
   ]
  }
 ],
 "metadata": {
  "kernelspec": {
   "display_name": "Python 3 (ipykernel)",
   "language": "python",
   "name": "python3"
  },
  "language_info": {
   "codemirror_mode": {
    "name": "ipython",
    "version": 3
   },
   "file_extension": ".py",
   "mimetype": "text/x-python",
   "name": "python",
   "nbconvert_exporter": "python",
   "pygments_lexer": "ipython3",
   "version": "3.10.6"
  }
 },
 "nbformat": 4,
 "nbformat_minor": 5
}
