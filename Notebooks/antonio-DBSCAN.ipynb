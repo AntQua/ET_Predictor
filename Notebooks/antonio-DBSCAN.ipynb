{
 "cells": [
  {
   "cell_type": "code",
   "execution_count": 1,
   "id": "331c183e-0d53-4ceb-9219-51208df76792",
   "metadata": {},
   "outputs": [],
   "source": [
    "import pandas as pd\n",
    "import numpy as np\n",
    "from sklearn.model_selection import train_test_split\n",
    "from sklearn.preprocessing import StandardScaler\n",
    "from sklearn.ensemble import RandomForestRegressor\n",
    "from sklearn.metrics import median_absolute_error"
   ]
  },
  {
   "cell_type": "markdown",
   "id": "04d07ed8-ab82-4eef-b0f9-2ef40bec0351",
   "metadata": {},
   "source": [
    "Step 1: Load and Inspect the Dataset\n",
    "Load the dataset and display the first few rows to understand its structure."
   ]
  },
  {
   "cell_type": "code",
   "execution_count": 2,
   "id": "da19f3ea",
   "metadata": {},
   "outputs": [
    {
     "ename": "FileNotFoundError",
     "evalue": "[Errno 2] No such file or directory: '/home/antqua/code/AntQua/ET_Predictor/raw_data/scrubbed.csv'",
     "output_type": "error",
     "traceback": [
      "\u001b[0;31m---------------------------------------------------------------------------\u001b[0m",
      "\u001b[0;31mFileNotFoundError\u001b[0m                         Traceback (most recent call last)",
      "Cell \u001b[0;32mIn[2], line 2\u001b[0m\n\u001b[1;32m      1\u001b[0m file_path \u001b[38;5;241m=\u001b[39m \u001b[38;5;124m'\u001b[39m\u001b[38;5;124m/home/antqua/code/AntQua/ET_Predictor/raw_data/scrubbed.csv\u001b[39m\u001b[38;5;124m'\u001b[39m\n\u001b[0;32m----> 2\u001b[0m data \u001b[38;5;241m=\u001b[39m \u001b[43mpd\u001b[49m\u001b[38;5;241;43m.\u001b[39;49m\u001b[43mread_csv\u001b[49m\u001b[43m(\u001b[49m\u001b[43mfile_path\u001b[49m\u001b[43m,\u001b[49m\u001b[43m \u001b[49m\u001b[43mlow_memory\u001b[49m\u001b[38;5;241;43m=\u001b[39;49m\u001b[38;5;28;43;01mFalse\u001b[39;49;00m\u001b[43m)\u001b[49m\n\u001b[1;32m      4\u001b[0m data\u001b[38;5;241m.\u001b[39mhead()\n",
      "File \u001b[0;32m~/.pyenv/versions/3.10.6/envs/ET_Predictor/lib/python3.10/site-packages/pandas/io/parsers/readers.py:1026\u001b[0m, in \u001b[0;36mread_csv\u001b[0;34m(filepath_or_buffer, sep, delimiter, header, names, index_col, usecols, dtype, engine, converters, true_values, false_values, skipinitialspace, skiprows, skipfooter, nrows, na_values, keep_default_na, na_filter, verbose, skip_blank_lines, parse_dates, infer_datetime_format, keep_date_col, date_parser, date_format, dayfirst, cache_dates, iterator, chunksize, compression, thousands, decimal, lineterminator, quotechar, quoting, doublequote, escapechar, comment, encoding, encoding_errors, dialect, on_bad_lines, delim_whitespace, low_memory, memory_map, float_precision, storage_options, dtype_backend)\u001b[0m\n\u001b[1;32m   1013\u001b[0m kwds_defaults \u001b[38;5;241m=\u001b[39m _refine_defaults_read(\n\u001b[1;32m   1014\u001b[0m     dialect,\n\u001b[1;32m   1015\u001b[0m     delimiter,\n\u001b[0;32m   (...)\u001b[0m\n\u001b[1;32m   1022\u001b[0m     dtype_backend\u001b[38;5;241m=\u001b[39mdtype_backend,\n\u001b[1;32m   1023\u001b[0m )\n\u001b[1;32m   1024\u001b[0m kwds\u001b[38;5;241m.\u001b[39mupdate(kwds_defaults)\n\u001b[0;32m-> 1026\u001b[0m \u001b[38;5;28;01mreturn\u001b[39;00m \u001b[43m_read\u001b[49m\u001b[43m(\u001b[49m\u001b[43mfilepath_or_buffer\u001b[49m\u001b[43m,\u001b[49m\u001b[43m \u001b[49m\u001b[43mkwds\u001b[49m\u001b[43m)\u001b[49m\n",
      "File \u001b[0;32m~/.pyenv/versions/3.10.6/envs/ET_Predictor/lib/python3.10/site-packages/pandas/io/parsers/readers.py:620\u001b[0m, in \u001b[0;36m_read\u001b[0;34m(filepath_or_buffer, kwds)\u001b[0m\n\u001b[1;32m    617\u001b[0m _validate_names(kwds\u001b[38;5;241m.\u001b[39mget(\u001b[38;5;124m\"\u001b[39m\u001b[38;5;124mnames\u001b[39m\u001b[38;5;124m\"\u001b[39m, \u001b[38;5;28;01mNone\u001b[39;00m))\n\u001b[1;32m    619\u001b[0m \u001b[38;5;66;03m# Create the parser.\u001b[39;00m\n\u001b[0;32m--> 620\u001b[0m parser \u001b[38;5;241m=\u001b[39m \u001b[43mTextFileReader\u001b[49m\u001b[43m(\u001b[49m\u001b[43mfilepath_or_buffer\u001b[49m\u001b[43m,\u001b[49m\u001b[43m \u001b[49m\u001b[38;5;241;43m*\u001b[39;49m\u001b[38;5;241;43m*\u001b[39;49m\u001b[43mkwds\u001b[49m\u001b[43m)\u001b[49m\n\u001b[1;32m    622\u001b[0m \u001b[38;5;28;01mif\u001b[39;00m chunksize \u001b[38;5;129;01mor\u001b[39;00m iterator:\n\u001b[1;32m    623\u001b[0m     \u001b[38;5;28;01mreturn\u001b[39;00m parser\n",
      "File \u001b[0;32m~/.pyenv/versions/3.10.6/envs/ET_Predictor/lib/python3.10/site-packages/pandas/io/parsers/readers.py:1620\u001b[0m, in \u001b[0;36mTextFileReader.__init__\u001b[0;34m(self, f, engine, **kwds)\u001b[0m\n\u001b[1;32m   1617\u001b[0m     \u001b[38;5;28mself\u001b[39m\u001b[38;5;241m.\u001b[39moptions[\u001b[38;5;124m\"\u001b[39m\u001b[38;5;124mhas_index_names\u001b[39m\u001b[38;5;124m\"\u001b[39m] \u001b[38;5;241m=\u001b[39m kwds[\u001b[38;5;124m\"\u001b[39m\u001b[38;5;124mhas_index_names\u001b[39m\u001b[38;5;124m\"\u001b[39m]\n\u001b[1;32m   1619\u001b[0m \u001b[38;5;28mself\u001b[39m\u001b[38;5;241m.\u001b[39mhandles: IOHandles \u001b[38;5;241m|\u001b[39m \u001b[38;5;28;01mNone\u001b[39;00m \u001b[38;5;241m=\u001b[39m \u001b[38;5;28;01mNone\u001b[39;00m\n\u001b[0;32m-> 1620\u001b[0m \u001b[38;5;28mself\u001b[39m\u001b[38;5;241m.\u001b[39m_engine \u001b[38;5;241m=\u001b[39m \u001b[38;5;28;43mself\u001b[39;49m\u001b[38;5;241;43m.\u001b[39;49m\u001b[43m_make_engine\u001b[49m\u001b[43m(\u001b[49m\u001b[43mf\u001b[49m\u001b[43m,\u001b[49m\u001b[43m \u001b[49m\u001b[38;5;28;43mself\u001b[39;49m\u001b[38;5;241;43m.\u001b[39;49m\u001b[43mengine\u001b[49m\u001b[43m)\u001b[49m\n",
      "File \u001b[0;32m~/.pyenv/versions/3.10.6/envs/ET_Predictor/lib/python3.10/site-packages/pandas/io/parsers/readers.py:1880\u001b[0m, in \u001b[0;36mTextFileReader._make_engine\u001b[0;34m(self, f, engine)\u001b[0m\n\u001b[1;32m   1878\u001b[0m     \u001b[38;5;28;01mif\u001b[39;00m \u001b[38;5;124m\"\u001b[39m\u001b[38;5;124mb\u001b[39m\u001b[38;5;124m\"\u001b[39m \u001b[38;5;129;01mnot\u001b[39;00m \u001b[38;5;129;01min\u001b[39;00m mode:\n\u001b[1;32m   1879\u001b[0m         mode \u001b[38;5;241m+\u001b[39m\u001b[38;5;241m=\u001b[39m \u001b[38;5;124m\"\u001b[39m\u001b[38;5;124mb\u001b[39m\u001b[38;5;124m\"\u001b[39m\n\u001b[0;32m-> 1880\u001b[0m \u001b[38;5;28mself\u001b[39m\u001b[38;5;241m.\u001b[39mhandles \u001b[38;5;241m=\u001b[39m \u001b[43mget_handle\u001b[49m\u001b[43m(\u001b[49m\n\u001b[1;32m   1881\u001b[0m \u001b[43m    \u001b[49m\u001b[43mf\u001b[49m\u001b[43m,\u001b[49m\n\u001b[1;32m   1882\u001b[0m \u001b[43m    \u001b[49m\u001b[43mmode\u001b[49m\u001b[43m,\u001b[49m\n\u001b[1;32m   1883\u001b[0m \u001b[43m    \u001b[49m\u001b[43mencoding\u001b[49m\u001b[38;5;241;43m=\u001b[39;49m\u001b[38;5;28;43mself\u001b[39;49m\u001b[38;5;241;43m.\u001b[39;49m\u001b[43moptions\u001b[49m\u001b[38;5;241;43m.\u001b[39;49m\u001b[43mget\u001b[49m\u001b[43m(\u001b[49m\u001b[38;5;124;43m\"\u001b[39;49m\u001b[38;5;124;43mencoding\u001b[39;49m\u001b[38;5;124;43m\"\u001b[39;49m\u001b[43m,\u001b[49m\u001b[43m \u001b[49m\u001b[38;5;28;43;01mNone\u001b[39;49;00m\u001b[43m)\u001b[49m\u001b[43m,\u001b[49m\n\u001b[1;32m   1884\u001b[0m \u001b[43m    \u001b[49m\u001b[43mcompression\u001b[49m\u001b[38;5;241;43m=\u001b[39;49m\u001b[38;5;28;43mself\u001b[39;49m\u001b[38;5;241;43m.\u001b[39;49m\u001b[43moptions\u001b[49m\u001b[38;5;241;43m.\u001b[39;49m\u001b[43mget\u001b[49m\u001b[43m(\u001b[49m\u001b[38;5;124;43m\"\u001b[39;49m\u001b[38;5;124;43mcompression\u001b[39;49m\u001b[38;5;124;43m\"\u001b[39;49m\u001b[43m,\u001b[49m\u001b[43m \u001b[49m\u001b[38;5;28;43;01mNone\u001b[39;49;00m\u001b[43m)\u001b[49m\u001b[43m,\u001b[49m\n\u001b[1;32m   1885\u001b[0m \u001b[43m    \u001b[49m\u001b[43mmemory_map\u001b[49m\u001b[38;5;241;43m=\u001b[39;49m\u001b[38;5;28;43mself\u001b[39;49m\u001b[38;5;241;43m.\u001b[39;49m\u001b[43moptions\u001b[49m\u001b[38;5;241;43m.\u001b[39;49m\u001b[43mget\u001b[49m\u001b[43m(\u001b[49m\u001b[38;5;124;43m\"\u001b[39;49m\u001b[38;5;124;43mmemory_map\u001b[39;49m\u001b[38;5;124;43m\"\u001b[39;49m\u001b[43m,\u001b[49m\u001b[43m \u001b[49m\u001b[38;5;28;43;01mFalse\u001b[39;49;00m\u001b[43m)\u001b[49m\u001b[43m,\u001b[49m\n\u001b[1;32m   1886\u001b[0m \u001b[43m    \u001b[49m\u001b[43mis_text\u001b[49m\u001b[38;5;241;43m=\u001b[39;49m\u001b[43mis_text\u001b[49m\u001b[43m,\u001b[49m\n\u001b[1;32m   1887\u001b[0m \u001b[43m    \u001b[49m\u001b[43merrors\u001b[49m\u001b[38;5;241;43m=\u001b[39;49m\u001b[38;5;28;43mself\u001b[39;49m\u001b[38;5;241;43m.\u001b[39;49m\u001b[43moptions\u001b[49m\u001b[38;5;241;43m.\u001b[39;49m\u001b[43mget\u001b[49m\u001b[43m(\u001b[49m\u001b[38;5;124;43m\"\u001b[39;49m\u001b[38;5;124;43mencoding_errors\u001b[39;49m\u001b[38;5;124;43m\"\u001b[39;49m\u001b[43m,\u001b[49m\u001b[43m \u001b[49m\u001b[38;5;124;43m\"\u001b[39;49m\u001b[38;5;124;43mstrict\u001b[39;49m\u001b[38;5;124;43m\"\u001b[39;49m\u001b[43m)\u001b[49m\u001b[43m,\u001b[49m\n\u001b[1;32m   1888\u001b[0m \u001b[43m    \u001b[49m\u001b[43mstorage_options\u001b[49m\u001b[38;5;241;43m=\u001b[39;49m\u001b[38;5;28;43mself\u001b[39;49m\u001b[38;5;241;43m.\u001b[39;49m\u001b[43moptions\u001b[49m\u001b[38;5;241;43m.\u001b[39;49m\u001b[43mget\u001b[49m\u001b[43m(\u001b[49m\u001b[38;5;124;43m\"\u001b[39;49m\u001b[38;5;124;43mstorage_options\u001b[39;49m\u001b[38;5;124;43m\"\u001b[39;49m\u001b[43m,\u001b[49m\u001b[43m \u001b[49m\u001b[38;5;28;43;01mNone\u001b[39;49;00m\u001b[43m)\u001b[49m\u001b[43m,\u001b[49m\n\u001b[1;32m   1889\u001b[0m \u001b[43m\u001b[49m\u001b[43m)\u001b[49m\n\u001b[1;32m   1890\u001b[0m \u001b[38;5;28;01massert\u001b[39;00m \u001b[38;5;28mself\u001b[39m\u001b[38;5;241m.\u001b[39mhandles \u001b[38;5;129;01mis\u001b[39;00m \u001b[38;5;129;01mnot\u001b[39;00m \u001b[38;5;28;01mNone\u001b[39;00m\n\u001b[1;32m   1891\u001b[0m f \u001b[38;5;241m=\u001b[39m \u001b[38;5;28mself\u001b[39m\u001b[38;5;241m.\u001b[39mhandles\u001b[38;5;241m.\u001b[39mhandle\n",
      "File \u001b[0;32m~/.pyenv/versions/3.10.6/envs/ET_Predictor/lib/python3.10/site-packages/pandas/io/common.py:873\u001b[0m, in \u001b[0;36mget_handle\u001b[0;34m(path_or_buf, mode, encoding, compression, memory_map, is_text, errors, storage_options)\u001b[0m\n\u001b[1;32m    868\u001b[0m \u001b[38;5;28;01melif\u001b[39;00m \u001b[38;5;28misinstance\u001b[39m(handle, \u001b[38;5;28mstr\u001b[39m):\n\u001b[1;32m    869\u001b[0m     \u001b[38;5;66;03m# Check whether the filename is to be opened in binary mode.\u001b[39;00m\n\u001b[1;32m    870\u001b[0m     \u001b[38;5;66;03m# Binary mode does not support 'encoding' and 'newline'.\u001b[39;00m\n\u001b[1;32m    871\u001b[0m     \u001b[38;5;28;01mif\u001b[39;00m ioargs\u001b[38;5;241m.\u001b[39mencoding \u001b[38;5;129;01mand\u001b[39;00m \u001b[38;5;124m\"\u001b[39m\u001b[38;5;124mb\u001b[39m\u001b[38;5;124m\"\u001b[39m \u001b[38;5;129;01mnot\u001b[39;00m \u001b[38;5;129;01min\u001b[39;00m ioargs\u001b[38;5;241m.\u001b[39mmode:\n\u001b[1;32m    872\u001b[0m         \u001b[38;5;66;03m# Encoding\u001b[39;00m\n\u001b[0;32m--> 873\u001b[0m         handle \u001b[38;5;241m=\u001b[39m \u001b[38;5;28;43mopen\u001b[39;49m\u001b[43m(\u001b[49m\n\u001b[1;32m    874\u001b[0m \u001b[43m            \u001b[49m\u001b[43mhandle\u001b[49m\u001b[43m,\u001b[49m\n\u001b[1;32m    875\u001b[0m \u001b[43m            \u001b[49m\u001b[43mioargs\u001b[49m\u001b[38;5;241;43m.\u001b[39;49m\u001b[43mmode\u001b[49m\u001b[43m,\u001b[49m\n\u001b[1;32m    876\u001b[0m \u001b[43m            \u001b[49m\u001b[43mencoding\u001b[49m\u001b[38;5;241;43m=\u001b[39;49m\u001b[43mioargs\u001b[49m\u001b[38;5;241;43m.\u001b[39;49m\u001b[43mencoding\u001b[49m\u001b[43m,\u001b[49m\n\u001b[1;32m    877\u001b[0m \u001b[43m            \u001b[49m\u001b[43merrors\u001b[49m\u001b[38;5;241;43m=\u001b[39;49m\u001b[43merrors\u001b[49m\u001b[43m,\u001b[49m\n\u001b[1;32m    878\u001b[0m \u001b[43m            \u001b[49m\u001b[43mnewline\u001b[49m\u001b[38;5;241;43m=\u001b[39;49m\u001b[38;5;124;43m\"\u001b[39;49m\u001b[38;5;124;43m\"\u001b[39;49m\u001b[43m,\u001b[49m\n\u001b[1;32m    879\u001b[0m \u001b[43m        \u001b[49m\u001b[43m)\u001b[49m\n\u001b[1;32m    880\u001b[0m     \u001b[38;5;28;01melse\u001b[39;00m:\n\u001b[1;32m    881\u001b[0m         \u001b[38;5;66;03m# Binary mode\u001b[39;00m\n\u001b[1;32m    882\u001b[0m         handle \u001b[38;5;241m=\u001b[39m \u001b[38;5;28mopen\u001b[39m(handle, ioargs\u001b[38;5;241m.\u001b[39mmode)\n",
      "\u001b[0;31mFileNotFoundError\u001b[0m: [Errno 2] No such file or directory: '/home/antqua/code/AntQua/ET_Predictor/raw_data/scrubbed.csv'"
     ]
    }
   ],
   "source": [
    "file_path = '/home/antqua/code/AntQua/ET_Predictor/raw_data/scrubbed.csv'\n",
    "data = pd.read_csv(file_path, low_memory=False)\n",
    "\n",
    "data.head()"
   ]
  },
  {
   "cell_type": "code",
   "execution_count": null,
   "id": "f0962cec",
   "metadata": {},
   "outputs": [],
   "source": [
    "print(data.shape)\n",
    "print(data.columns)\n",
    "print(data.dtypes)"
   ]
  },
  {
   "cell_type": "markdown",
   "id": "fbe81b54-a4a0-4df6-9e1b-65cf428124d5",
   "metadata": {},
   "source": [
    "The dataset has several columns, including datetime, city, state, country, shape, duration (seconds), duration (hours/min), comments, date posted, latitude, and longitude. Our focus will be on the datetime and duration (seconds) columns for features, and latitude and longitude for the target variables."
   ]
  },
  {
   "cell_type": "markdown",
   "id": "3c2b87d2-84ba-4557-97ad-82fca08239a7",
   "metadata": {},
   "source": [
    "Step 2: Data Preparation\n",
    "\n",
    "Convert the datetime column to numerical format and split it into separate features\n",
    "We'll convert the datetime column to datetime objects and then extract the year, month, day, hour, and minute as separate features.\n",
    "\n",
    "Handle Missing Values\n",
    "We'll check for and handle any missing values in the relevant columns (datetime, duration (seconds), latitude, and longitude)."
   ]
  },
  {
   "cell_type": "code",
   "execution_count": null,
   "id": "acbc5205-44cc-48fb-9e6b-7827b8640df9",
   "metadata": {},
   "outputs": [],
   "source": [
    "# Strip whitespace from all column names\n",
    "data.columns = data.columns.str.strip()\n",
    "\n",
    "# Convert latitude and longitude to numeric, forcing invalid parsing to NaN\n",
    "data['latitude'] = pd.to_numeric(data['latitude'], errors='coerce')\n",
    "data['longitude'] = pd.to_numeric(data['longitude'], errors='coerce')\n",
    "\n",
    "# Convert duration (seconds) to numeric, forcing invalid parsing to NaN\n",
    "data['duration (seconds)'] = pd.to_numeric(data['duration (seconds)'], errors='coerce')\n",
    "\n",
    "# Convert datetime column to datetime object\n",
    "data['datetime'] = pd.to_datetime(data['datetime'], errors='coerce')\n",
    "\n",
    "# Drop rows where datetime conversion failed\n",
    "data = data.dropna(subset=['datetime'])\n",
    "\n",
    "# Drop rows with NaN \n",
    "data = data.dropna()\n",
    "\n",
    "print(data.shape)\n",
    "print(data.columns)\n",
    "# # Verify the conversion\n",
    "print(data.dtypes)"
   ]
  },
  {
   "cell_type": "markdown",
   "id": "02bd8bd7-0bfe-49a4-9961-b2ad6747cc68",
   "metadata": {},
   "source": [
    "Step 3: Feature Engineering\n",
    "\n",
    "We'll use the extracted datetime features and the duration (seconds) for training the model."
   ]
  },
  {
   "cell_type": "code",
   "execution_count": null,
   "id": "e32839b0-62f9-4248-8e2c-6918614eb9c9",
   "metadata": {},
   "outputs": [],
   "source": [
    "us_data = data[data['country'] == 'us']\n",
    "\n",
    "# Save the filtered data to a new CSV file\n",
    "# us_only_file_path = '/mnt/data/us_only_scrubbed.csv'\n",
    "# us_data.to_csv(us_only_file_path, index=False)\n",
    "\n",
    "#import ace_tools as tools; tools.display_dataframe_to_user(name=\"US Only Scrubbed Dataset\", dataframe=us_data)\n",
    "#us_only_file_path\n",
    "\n",
    "us_data.shape"
   ]
  },
  {
   "cell_type": "code",
   "execution_count": null,
   "id": "db75ccf8-413c-48b2-9262-d4331c54e3fa",
   "metadata": {},
   "outputs": [],
   "source": [
    "# Make an explicit copy of the DataFrame\n",
    "us_data = us_data.copy()\n",
    "\n",
    "# Extract year, month, day, hour, and minute from datetime\n",
    "us_data['year'] = us_data['datetime'].dt.year\n",
    "us_data['month'] = us_data['datetime'].dt.month\n",
    "us_data['day'] = us_data['datetime'].dt.day\n",
    "us_data['hour'] = us_data['datetime'].dt.hour\n",
    "us_data['minute'] = us_data['datetime'].dt.minute\n",
    "\n",
    "# Specify the columns to keep\n",
    "#columns_to_keep = ['datetime', 'duration (seconds)', 'latitude', 'longitude', 'year', 'month', 'day', 'hour', 'minute']\n",
    "\n",
    "# Select only the specified columns\n",
    "#us_data = us_data.loc[:, columns_to_keep]\n",
    "\n",
    "# Display the head, dtypes, and shape of the DataFrame\n",
    "us_data_dtypes = us_data.dtypes\n",
    "us_data_shape = us_data.shape\n",
    "\n",
    "us_data_dtypes, us_data_shape\n"
   ]
  },
  {
   "cell_type": "markdown",
   "id": "b264c3f9-0bd9-46e6-88d2-032a4a02dcdb",
   "metadata": {},
   "source": [
    "Step 4: Model Training\n",
    "\n",
    "We'll scale the features and train both LinearRegression and RandomForestRegressor models for predicting latitude and longitude separately."
   ]
  },
  {
   "cell_type": "markdown",
   "id": "e02c0c1c-6a66-4429-856f-8e989ec680ce",
   "metadata": {},
   "source": [
    "Keep just the enntries for the united states"
   ]
  },
  {
   "cell_type": "code",
   "execution_count": null,
   "id": "87c2c770-1be9-4a57-8068-a07e734abbf4",
   "metadata": {
    "scrolled": true
   },
   "outputs": [],
   "source": [
    "# Define features and target variables\n",
    "features = ['duration (seconds)', 'year', 'month', 'day', 'hour', 'minute']\n",
    "X = us_data[features]\n",
    "y_lat = us_data['latitude']\n",
    "y_long = us_data['longitude']\n",
    "\n",
    "# Split the data into training and test sets\n",
    "X_train, X_test, y_lat_train, y_lat_test, y_long_train, y_long_test = train_test_split(X, y_lat, y_long, test_size=0.2, random_state=42)\n",
    "\n",
    "# Scale the features\n",
    "scaler = StandardScaler()\n",
    "X_train_scaled = scaler.fit_transform(X_train)\n",
    "X_test_scaled = scaler.transform(X_test)\n",
    "\n",
    "# Train Random Forest Regressor models\n",
    "rf_reg_lat = RandomForestRegressor(random_state=42)\n",
    "rf_reg_lat.fit(X_train_scaled, y_lat_train)\n",
    "\n",
    "rf_reg_long = RandomForestRegressor(random_state=42)\n",
    "rf_reg_long.fit(X_train_scaled, y_long_train)\n"
   ]
  },
  {
   "cell_type": "markdown",
   "id": "99c7168a-6fa2-4119-9ac3-abb09de6d23f",
   "metadata": {},
   "source": [
    "Step 5: Prediction\n",
    "We'll use the trained models to predict the location for a future chosen date."
   ]
  },
  {
   "cell_type": "code",
   "execution_count": null,
   "id": "0df9d369-1730-46f7-bb8e-2523b778a83f",
   "metadata": {},
   "outputs": [],
   "source": [
    "# Predict and evaluate the models\n",
    "y_lat_pred_rf = rf_reg_lat.predict(X_test_scaled)\n",
    "y_long_pred_rf = rf_reg_long.predict(X_test_scaled)\n",
    "\n",
    "mae_lat_rf = median_absolute_error(y_lat_test, y_lat_pred_rf)\n",
    "mae_long_rf = median_absolute_error(y_long_test, y_long_pred_rf)\n",
    "\n",
    "mae_results = {\n",
    "    'Random Forest Latitude MAE': mae_lat_rf,\n",
    "    'Random Forest Longitude MAE': mae_long_rf,\n",
    "}\n",
    "\n",
    "mae_results"
   ]
  },
  {
   "cell_type": "code",
   "execution_count": null,
   "id": "b5f092aa-698b-4fba-b59c-4363b69ec577",
   "metadata": {},
   "outputs": [],
   "source": [
    "# Example prediction for a future chosen date\n",
    "future_date = pd.to_datetime('2024-10-04 00:00:00')\n",
    "future_duration = 120  # example duration in seconds\n",
    "\n",
    "future_features = pd.DataFrame({\n",
    "    'duration (seconds)': [future_duration],\n",
    "    'year': [future_date.year],\n",
    "    'month': [future_date.month],\n",
    "    'day': [future_date.day],\n",
    "    'hour': [future_date.hour],\n",
    "    'minute': [future_date.minute]\n",
    "})\n",
    "\n",
    "future_features_scaled = scaler.transform(future_features)\n",
    "\n",
    "# Predict latitude and longitude using both models\n",
    "predicted_lat_rf = rf_reg_lat.predict(future_features_scaled)\n",
    "predicted_long_rf = rf_reg_long.predict(future_features_scaled)\n",
    "\n",
    "predicted_location_rf = (predicted_lat_rf[0], predicted_long_rf[0])\n",
    "\n",
    "print(f\"Predicted location (Random Forest): {predicted_location_rf}\")"
   ]
  },
  {
   "cell_type": "code",
   "execution_count": null,
   "id": "3b8065b2-d792-469f-8d9a-e63af5b57651",
   "metadata": {},
   "outputs": [],
   "source": [
    "import matplotlib.pyplot as plt\n",
    "from mpl_toolkits.basemap import Basemap\n",
    "\n",
    "predicted_location_rf = (predicted_lat_rf, predicted_long_rf)\n",
    "\n",
    "predicted_location_rf = (predicted_lat_rf, predicted_long_rf)\n",
    "\n",
    "# Create a figure\n",
    "plt.figure(figsize=(15, 6))\n",
    "\n",
    "# Create a Basemap instance with a larger scale\n",
    "m = Basemap(projection='merc', llcrnrlat=predicted_lat_rf-15, urcrnrlat=predicted_lat_rf+15,\n",
    "            llcrnrlon=predicted_long_rf-30, urcrnrlon=predicted_long_rf+30, resolution='i')\n",
    "\n",
    "# Draw coastlines and countries\n",
    "m.drawcoastlines()\n",
    "m.drawcountries()\n",
    "\n",
    "# Convert latitude and longitude to map projection coordinates\n",
    "x, y = m(predicted_long_rf, predicted_lat_rf)\n",
    "\n",
    "# Plot the predicted location\n",
    "m.plot(x, y, 'bo', markersize=12)\n",
    "plt.text(x, y, '   <---------', fontsize=12, ha='left', va='center', color='red')\n",
    "\n",
    "# Add title\n",
    "plt.title('Predicted UFO Location on Map')\n",
    "\n",
    "# Show the plot\n",
    "plt.show()\n"
   ]
  },
  {
   "cell_type": "code",
   "execution_count": null,
   "id": "5d6915c1-5b80-430d-a447-27192752c60e",
   "metadata": {},
   "outputs": [],
   "source": []
  }
 ],
 "metadata": {
  "kernelspec": {
   "display_name": "Python 3 (ipykernel)",
   "language": "python",
   "name": "python3"
  },
  "language_info": {
   "codemirror_mode": {
    "name": "ipython",
    "version": 3
   },
   "file_extension": ".py",
   "mimetype": "text/x-python",
   "name": "python",
   "nbconvert_exporter": "python",
   "pygments_lexer": "ipython3",
   "version": "3.10.6"
  }
 },
 "nbformat": 4,
 "nbformat_minor": 5
}
