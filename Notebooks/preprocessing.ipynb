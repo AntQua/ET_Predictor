{
 "cells": [
  {
   "cell_type": "code",
   "execution_count": 1,
   "id": "331c183e-0d53-4ceb-9219-51208df76792",
   "metadata": {},
   "outputs": [
    {
     "name": "stdout",
     "output_type": "stream",
     "text": [
      "Requirement already satisfied: matplotlib in /home/gustavolamonica/.pyenv/versions/3.10.6/envs/ET_Predictor/lib/python3.10/site-packages (3.9.0)\n",
      "Requirement already satisfied: contourpy>=1.0.1 in /home/gustavolamonica/.pyenv/versions/3.10.6/envs/ET_Predictor/lib/python3.10/site-packages (from matplotlib) (1.2.1)\n",
      "Requirement already satisfied: cycler>=0.10 in /home/gustavolamonica/.pyenv/versions/3.10.6/envs/ET_Predictor/lib/python3.10/site-packages (from matplotlib) (0.12.1)\n",
      "Requirement already satisfied: fonttools>=4.22.0 in /home/gustavolamonica/.pyenv/versions/3.10.6/envs/ET_Predictor/lib/python3.10/site-packages (from matplotlib) (4.53.0)\n",
      "Requirement already satisfied: kiwisolver>=1.3.1 in /home/gustavolamonica/.pyenv/versions/3.10.6/envs/ET_Predictor/lib/python3.10/site-packages (from matplotlib) (1.4.5)\n",
      "Requirement already satisfied: numpy>=1.23 in /home/gustavolamonica/.pyenv/versions/3.10.6/envs/ET_Predictor/lib/python3.10/site-packages (from matplotlib) (1.26.4)\n",
      "Requirement already satisfied: packaging>=20.0 in /home/gustavolamonica/.pyenv/versions/3.10.6/envs/ET_Predictor/lib/python3.10/site-packages (from matplotlib) (24.0)\n",
      "Requirement already satisfied: pillow>=8 in /home/gustavolamonica/.pyenv/versions/3.10.6/envs/ET_Predictor/lib/python3.10/site-packages (from matplotlib) (10.3.0)\n",
      "Requirement already satisfied: pyparsing>=2.3.1 in /home/gustavolamonica/.pyenv/versions/3.10.6/envs/ET_Predictor/lib/python3.10/site-packages (from matplotlib) (3.1.2)\n",
      "Requirement already satisfied: python-dateutil>=2.7 in /home/gustavolamonica/.pyenv/versions/3.10.6/envs/ET_Predictor/lib/python3.10/site-packages (from matplotlib) (2.9.0.post0)\n",
      "Requirement already satisfied: six>=1.5 in /home/gustavolamonica/.pyenv/versions/3.10.6/envs/ET_Predictor/lib/python3.10/site-packages (from python-dateutil>=2.7->matplotlib) (1.16.0)\n"
     ]
    }
   ],
   "source": [
    "!pip install matplotlib\n",
    "import pandas as pd\n",
    "import numpy as np\n",
    "import matplotlib.pyplot as plt\n",
    "from sklearn.model_selection import train_test_split\n",
    "from sklearn.preprocessing import StandardScaler\n",
    "from sklearn.linear_model import LinearRegression\n",
    "from sklearn.ensemble import RandomForestRegressor\n",
    "from sklearn.metrics import median_absolute_error"
   ]
  },
  {
   "cell_type": "markdown",
   "id": "04d07ed8-ab82-4eef-b0f9-2ef40bec0351",
   "metadata": {},
   "source": [
    "Step 1: Load and Inspect the Dataset\n",
    "Load the dataset and display the first few rows to understand its structure."
   ]
  },
  {
   "cell_type": "code",
   "execution_count": 2,
   "id": "da19f3ea",
   "metadata": {},
   "outputs": [
    {
     "data": {
      "text/html": [
       "<div>\n",
       "<style scoped>\n",
       "    .dataframe tbody tr th:only-of-type {\n",
       "        vertical-align: middle;\n",
       "    }\n",
       "\n",
       "    .dataframe tbody tr th {\n",
       "        vertical-align: top;\n",
       "    }\n",
       "\n",
       "    .dataframe thead th {\n",
       "        text-align: right;\n",
       "    }\n",
       "</style>\n",
       "<table border=\"1\" class=\"dataframe\">\n",
       "  <thead>\n",
       "    <tr style=\"text-align: right;\">\n",
       "      <th></th>\n",
       "      <th>datetime</th>\n",
       "      <th>city</th>\n",
       "      <th>state</th>\n",
       "      <th>country</th>\n",
       "      <th>shape</th>\n",
       "      <th>duration (seconds)</th>\n",
       "      <th>duration (hours/min)</th>\n",
       "      <th>comments</th>\n",
       "      <th>date posted</th>\n",
       "      <th>latitude</th>\n",
       "      <th>longitude</th>\n",
       "    </tr>\n",
       "  </thead>\n",
       "  <tbody>\n",
       "    <tr>\n",
       "      <th>0</th>\n",
       "      <td>10/10/1949 20:30</td>\n",
       "      <td>san marcos</td>\n",
       "      <td>tx</td>\n",
       "      <td>us</td>\n",
       "      <td>cylinder</td>\n",
       "      <td>2700</td>\n",
       "      <td>45 minutes</td>\n",
       "      <td>This event took place in early fall around 194...</td>\n",
       "      <td>4/27/2004</td>\n",
       "      <td>29.8830556</td>\n",
       "      <td>-97.941111</td>\n",
       "    </tr>\n",
       "    <tr>\n",
       "      <th>1</th>\n",
       "      <td>10/10/1949 21:00</td>\n",
       "      <td>lackland afb</td>\n",
       "      <td>tx</td>\n",
       "      <td>NaN</td>\n",
       "      <td>light</td>\n",
       "      <td>7200</td>\n",
       "      <td>1-2 hrs</td>\n",
       "      <td>1949 Lackland AFB&amp;#44 TX.  Lights racing acros...</td>\n",
       "      <td>12/16/2005</td>\n",
       "      <td>29.38421</td>\n",
       "      <td>-98.581082</td>\n",
       "    </tr>\n",
       "    <tr>\n",
       "      <th>2</th>\n",
       "      <td>10/10/1955 17:00</td>\n",
       "      <td>chester (uk/england)</td>\n",
       "      <td>NaN</td>\n",
       "      <td>gb</td>\n",
       "      <td>circle</td>\n",
       "      <td>20</td>\n",
       "      <td>20 seconds</td>\n",
       "      <td>Green/Orange circular disc over Chester&amp;#44 En...</td>\n",
       "      <td>1/21/2008</td>\n",
       "      <td>53.2</td>\n",
       "      <td>-2.916667</td>\n",
       "    </tr>\n",
       "    <tr>\n",
       "      <th>3</th>\n",
       "      <td>10/10/1956 21:00</td>\n",
       "      <td>edna</td>\n",
       "      <td>tx</td>\n",
       "      <td>us</td>\n",
       "      <td>circle</td>\n",
       "      <td>20</td>\n",
       "      <td>1/2 hour</td>\n",
       "      <td>My older brother and twin sister were leaving ...</td>\n",
       "      <td>1/17/2004</td>\n",
       "      <td>28.9783333</td>\n",
       "      <td>-96.645833</td>\n",
       "    </tr>\n",
       "    <tr>\n",
       "      <th>4</th>\n",
       "      <td>10/10/1960 20:00</td>\n",
       "      <td>kaneohe</td>\n",
       "      <td>hi</td>\n",
       "      <td>us</td>\n",
       "      <td>light</td>\n",
       "      <td>900</td>\n",
       "      <td>15 minutes</td>\n",
       "      <td>AS a Marine 1st Lt. flying an FJ4B fighter/att...</td>\n",
       "      <td>1/22/2004</td>\n",
       "      <td>21.4180556</td>\n",
       "      <td>-157.803611</td>\n",
       "    </tr>\n",
       "  </tbody>\n",
       "</table>\n",
       "</div>"
      ],
      "text/plain": [
       "           datetime                  city state country     shape  \\\n",
       "0  10/10/1949 20:30            san marcos    tx      us  cylinder   \n",
       "1  10/10/1949 21:00          lackland afb    tx     NaN     light   \n",
       "2  10/10/1955 17:00  chester (uk/england)   NaN      gb    circle   \n",
       "3  10/10/1956 21:00                  edna    tx      us    circle   \n",
       "4  10/10/1960 20:00               kaneohe    hi      us     light   \n",
       "\n",
       "  duration (seconds) duration (hours/min)  \\\n",
       "0               2700           45 minutes   \n",
       "1               7200              1-2 hrs   \n",
       "2                 20           20 seconds   \n",
       "3                 20             1/2 hour   \n",
       "4                900           15 minutes   \n",
       "\n",
       "                                            comments date posted    latitude  \\\n",
       "0  This event took place in early fall around 194...   4/27/2004  29.8830556   \n",
       "1  1949 Lackland AFB&#44 TX.  Lights racing acros...  12/16/2005    29.38421   \n",
       "2  Green/Orange circular disc over Chester&#44 En...   1/21/2008        53.2   \n",
       "3  My older brother and twin sister were leaving ...   1/17/2004  28.9783333   \n",
       "4  AS a Marine 1st Lt. flying an FJ4B fighter/att...   1/22/2004  21.4180556   \n",
       "\n",
       "   longitude   \n",
       "0  -97.941111  \n",
       "1  -98.581082  \n",
       "2   -2.916667  \n",
       "3  -96.645833  \n",
       "4 -157.803611  "
      ]
     },
     "execution_count": 2,
     "metadata": {},
     "output_type": "execute_result"
    }
   ],
   "source": [
    "file_path = '/home/gustavolamonica/code/Glamonica123/ET_Predictor/raw_data/scrubbed.csv'\n",
    "data = pd.read_csv(file_path, low_memory=False)\n",
    "\n",
    "data.head()"
   ]
  },
  {
   "cell_type": "code",
   "execution_count": 3,
   "id": "e976d45f-c352-4752-bc22-13b0bb28f76f",
   "metadata": {},
   "outputs": [
    {
     "data": {
      "text/plain": [
       "(80332, 11)"
      ]
     },
     "execution_count": 3,
     "metadata": {},
     "output_type": "execute_result"
    }
   ],
   "source": [
    "data.shape"
   ]
  },
  {
   "cell_type": "code",
   "execution_count": 4,
   "id": "30db4a91-3fff-482f-a3e3-2b27e91bbb42",
   "metadata": {},
   "outputs": [
    {
     "name": "stdout",
     "output_type": "stream",
     "text": [
      "The current number of NaN entries is: 9670\n"
     ]
    },
    {
     "data": {
      "text/plain": [
       "country\n",
       "us    65114\n",
       "ca     3000\n",
       "gb     1905\n",
       "au      538\n",
       "de      105\n",
       "Name: count, dtype: int64"
      ]
     },
     "execution_count": 4,
     "metadata": {},
     "output_type": "execute_result"
    }
   ],
   "source": [
    "print(f'''The current number of NaN entries is: {data['country'].isna().sum()}''')\n",
    "data['country'].value_counts()"
   ]
  },
  {
   "cell_type": "code",
   "execution_count": 5,
   "id": "fded0a44-daac-4d2a-aabd-bcdb229fc078",
   "metadata": {},
   "outputs": [
    {
     "name": "stdout",
     "output_type": "stream",
     "text": [
      "country\n",
      "us    74784\n",
      "Name: count, dtype: int64\n"
     ]
    },
    {
     "name": "stderr",
     "output_type": "stream",
     "text": [
      "/tmp/ipykernel_12311/985467102.py:1: FutureWarning: A value is trying to be set on a copy of a DataFrame or Series through chained assignment using an inplace method.\n",
      "The behavior will change in pandas 3.0. This inplace method will never work because the intermediate object on which we are setting values always behaves as a copy.\n",
      "\n",
      "For example, when doing 'df[col].method(value, inplace=True)', try using 'df.method({col: value}, inplace=True)' or df[col] = df[col].method(value) instead, to perform the operation inplace on the original object.\n",
      "\n",
      "\n",
      "  data['country'].fillna('us', inplace=True)\n"
     ]
    }
   ],
   "source": [
    "data['country'].fillna('us', inplace=True)\n",
    "data = data[~data['country'].isin(['gb', 'ca', 'au', 'de'])]\n",
    "country_counts = data['country'].value_counts()\n",
    "print(country_counts)"
   ]
  },
  {
   "cell_type": "code",
   "execution_count": 6,
   "id": "f0962cec",
   "metadata": {},
   "outputs": [],
   "source": [
    "def clean_data(value):\n",
    "    try:\n",
    "        # Attempt to convert directly\n",
    "        return float(value)\n",
    "    except ValueError:\n",
    "        # Remove non-numeric characters and try conversion\n",
    "        cleaned_value = ''.join(char for char in value if char.isdigit() or char == '.')\n",
    "        try:\n",
    "            return float(cleaned_value)\n",
    "        except ValueError:\n",
    "            # If conversion fails, return NaN\n",
    "            return float('nan')\n",
    "data['latitude']=data['latitude'].apply(clean_data)\n",
    "data['longitude ']=data['longitude '].apply(clean_data)\n",
    "#https://www.quora.com/What-is-the-longitude-and-latitude-of-a-bounding-box-around-the-continental-United-States\n",
    "data = data[\n",
    "    (data['longitude '] >= -124.67) & \n",
    "    (data['longitude '] <= -66.95) & \n",
    "    (data['latitude'] >= 25.84) & \n",
    "    (data['latitude'] <= 49.38)\n",
    "]"
   ]
  },
  {
   "cell_type": "code",
   "execution_count": 7,
   "id": "63bc8c5b-1c8a-4cf0-a478-5d38bb391960",
   "metadata": {},
   "outputs": [
    {
     "data": {
      "text/plain": [
       "(70234, 11)"
      ]
     },
     "execution_count": 7,
     "metadata": {},
     "output_type": "execute_result"
    }
   ],
   "source": [
    "data.shape"
   ]
  },
  {
   "cell_type": "code",
   "execution_count": 8,
   "id": "bcfe9676-942a-482a-972c-1b4921db5c49",
   "metadata": {},
   "outputs": [
    {
     "data": {
      "image/png": "[encoded data removed]",
      "text/plain": [
       "<Figure size 1000x600 with 1 Axes>"
      ]
     },
     "metadata": {},
     "output_type": "display_data"
    }
   ],
   "source": [
    "# Create a scatter plot of latitude and longitude\n",
    "plt.figure(figsize=(10, 6))\n",
    "data_sample=data.sample(frac=0.01, random_state=1)\n",
    "plt.scatter(data_sample['longitude '], data_sample['latitude'], c='blue', marker='o')\n",
    "\n",
    "# Add titles and labels\n",
    "plt.title('latitude and longitude Scatter Plot')\n",
    "plt.xlabel('longitude ')\n",
    "plt.ylabel('latitude')\n",
    "\n",
    "# Show plot\n",
    "plt.grid(True)\n",
    "plt.show()"
   ]
  },
  {
   "cell_type": "markdown",
   "id": "fbe81b54-a4a0-4df6-9e1b-65cf428124d5",
   "metadata": {},
   "source": [
    "The dataset has several columns, including datetime, city, state, country, shape, duration (seconds), duration (hours/min), comments, date posted, latitude, and longitude. Our focus will be on the datetime and duration (seconds) columns for features, and latitude and longitude for the target variables."
   ]
  },
  {
   "cell_type": "markdown",
   "id": "3c2b87d2-84ba-4557-97ad-82fca08239a7",
   "metadata": {},
   "source": [
    "Step 2: Data Preparation\n",
    "\n",
    "Convert the datetime column to numerical format and split it into separate features\n",
    "We'll convert the datetime column to datetime objects and then extract the year, month, day, hour, and minute as separate features.\n",
    "\n",
    "Handle Missing Values\n",
    "We'll check for and handle any missing values in the relevant columns (datetime, duration (seconds), latitude, and longitude)."
   ]
  },
  {
   "cell_type": "code",
   "execution_count": 9,
   "id": "acbc5205-44cc-48fb-9e6b-7827b8640df9",
   "metadata": {},
   "outputs": [
    {
     "name": "stdout",
     "output_type": "stream",
     "text": [
      "(67888, 11)\n",
      "Index(['datetime', 'city', 'state', 'country', 'shape', 'duration (seconds)',\n",
      "       'duration (hours/min)', 'comments', 'date posted', 'latitude',\n",
      "       'longitude'],\n",
      "      dtype='object')\n",
      "datetime                datetime64[ns]\n",
      "city                            object\n",
      "state                           object\n",
      "country                         object\n",
      "shape                           object\n",
      "duration (seconds)             float64\n",
      "duration (hours/min)            object\n",
      "comments                        object\n",
      "date posted                     object\n",
      "latitude                       float64\n",
      "longitude                      float64\n",
      "dtype: object\n"
     ]
    }
   ],
   "source": [
    "# Strip whitespace from all column names\n",
    "data.columns = data.columns.str.strip()\n",
    "\n",
    "# Convert latitude and longitude to numeric, forcing invalid parsing to NaN\n",
    "data['latitude'] = pd.to_numeric(data['latitude'], errors='coerce')\n",
    "data['longitude'] = pd.to_numeric(data['longitude'], errors='coerce')\n",
    "\n",
    "# Convert duration (seconds) to numeric, forcing invalid parsing to NaN\n",
    "data['duration (seconds)'] = pd.to_numeric(data['duration (seconds)'], errors='coerce')\n",
    "\n",
    "# Convert datetime column to datetime object\n",
    "data['datetime'] = pd.to_datetime(data['datetime'], errors='coerce')\n",
    "\n",
    "# Drop rows where datetime conversion failed\n",
    "data = data.dropna(subset=['datetime'])\n",
    "\n",
    "# Drop rows with NaN \n",
    "data = data.dropna()\n",
    "\n",
    "print(data.shape)\n",
    "print(data.columns)\n",
    "# Verify the conversion\n",
    "print(data.dtypes)"
   ]
  },
  {
   "cell_type": "markdown",
   "id": "02bd8bd7-0bfe-49a4-9961-b2ad6747cc68",
   "metadata": {},
   "source": [
    "Step 3: Feature Engineering\n",
    "\n",
    "We'll use the extracted datetime features and the duration (seconds) for training the model."
   ]
  },
  {
   "cell_type": "code",
   "execution_count": 10,
   "id": "e0c41d2e-9e36-4171-9044-6284d3d39905",
   "metadata": {},
   "outputs": [
    {
     "data": {
      "text/plain": [
       "Index(['datetime', 'city', 'state', 'country', 'shape', 'duration (seconds)',\n",
       "       'duration (hours/min)', 'comments', 'date posted', 'latitude',\n",
       "       'longitude'],\n",
       "      dtype='object')"
      ]
     },
     "execution_count": 10,
     "metadata": {},
     "output_type": "execute_result"
    }
   ],
   "source": [
    "column_names = data.columns\n",
    "column_names"
   ]
  },
  {
   "cell_type": "code",
   "execution_count": 11,
   "id": "e32839b0-62f9-4248-8e2c-6918614eb9c9",
   "metadata": {},
   "outputs": [
    {
     "data": {
      "text/plain": [
       "(67888, 11)"
      ]
     },
     "execution_count": 11,
     "metadata": {},
     "output_type": "execute_result"
    }
   ],
   "source": [
    "us_data = data[data['country'] == 'us']\n",
    "\n",
    "# Save the filtered data to a new CSV file\n",
    "# us_only_file_path = '/mnt/data/us_only_scrubbed.csv'\n",
    "# us_data.to_csv(us_only_file_path, index=False)\n",
    "\n",
    "#import ace_tools as tools; tools.display_dataframe_to_user(name=\"US Only Scrubbed Dataset\", dataframe=us_data)\n",
    "#us_only_file_path\n",
    "\n",
    "us_data.shape"
   ]
  },
  {
   "cell_type": "code",
   "execution_count": 12,
   "id": "db75ccf8-413c-48b2-9262-d4331c54e3fa",
   "metadata": {},
   "outputs": [
    {
     "data": {
      "text/plain": [
       "(             datetime  duration (seconds)   latitude  longitude  year  month  \\\n",
       " 0 1949-10-10 20:30:00              2700.0  29.883056 -97.941111  1949     10   \n",
       " 1 1949-10-10 21:00:00              7200.0  29.384210 -98.581082  1949     10   \n",
       " 3 1956-10-10 21:00:00                20.0  28.978333 -96.645833  1956     10   \n",
       " 5 1961-10-10 19:00:00               300.0  36.595000 -82.188889  1961     10   \n",
       " 7 1965-10-10 23:45:00              1200.0  41.117500 -73.408333  1965     10   \n",
       " \n",
       "    day  hour  minute  \n",
       " 0   10    20      30  \n",
       " 1   10    21       0  \n",
       " 3   10    21       0  \n",
       " 5   10    19       0  \n",
       " 7   10    23      45  ,\n",
       " datetime              datetime64[ns]\n",
       " duration (seconds)           float64\n",
       " latitude                     float64\n",
       " longitude                    float64\n",
       " year                           int32\n",
       " month                          int32\n",
       " day                            int32\n",
       " hour                           int32\n",
       " minute                         int32\n",
       " dtype: object,\n",
       " (67888, 9))"
      ]
     },
     "execution_count": 12,
     "metadata": {},
     "output_type": "execute_result"
    }
   ],
   "source": [
    "# Extract year, month, day, hour, and minute from datetime\n",
    "us_data['year'] = us_data['datetime'].dt.year\n",
    "us_data['month'] = us_data['datetime'].dt.month\n",
    "us_data['day'] = us_data['datetime'].dt.day\n",
    "us_data['hour'] = us_data['datetime'].dt.hour\n",
    "us_data['minute'] = us_data['datetime'].dt.minute\n",
    "\n",
    "# Specify the columns to keep\n",
    "columns_to_keep = ['datetime', 'duration (seconds)', 'latitude', 'longitude', 'year', 'month', 'day', 'hour', 'minute']\n",
    "\n",
    "# Select only the specified columns\n",
    "us_data = us_data.loc[:, columns_to_keep]\n",
    "\n",
    "us_data.head(), us_data.dtypes, us_data.shape\n",
    "\n"
   ]
  },
  {
   "cell_type": "code",
   "execution_count": 13,
   "id": "5f03a110-483f-4fa5-a42f-97d43cc7a381",
   "metadata": {},
   "outputs": [
    {
     "data": {
      "text/plain": [
       "datetime                0\n",
       "city                    0\n",
       "state                   0\n",
       "country                 0\n",
       "shape                   0\n",
       "duration (seconds)      0\n",
       "duration (hours/min)    0\n",
       "comments                0\n",
       "date posted             0\n",
       "latitude                0\n",
       "longitude               0\n",
       "dtype: int64"
      ]
     },
     "execution_count": 13,
     "metadata": {},
     "output_type": "execute_result"
    }
   ],
   "source": [
    "data.isna().sum()"
   ]
  },
  {
   "cell_type": "code",
   "execution_count": 14,
   "id": "bf3a14da-ca8e-490b-ad86-5d5c8e839dbb",
   "metadata": {},
   "outputs": [
    {
     "data": {
      "text/html": [
       "<div>\n",
       "<style scoped>\n",
       "    .dataframe tbody tr th:only-of-type {\n",
       "        vertical-align: middle;\n",
       "    }\n",
       "\n",
       "    .dataframe tbody tr th {\n",
       "        vertical-align: top;\n",
       "    }\n",
       "\n",
       "    .dataframe thead th {\n",
       "        text-align: right;\n",
       "    }\n",
       "</style>\n",
       "<table border=\"1\" class=\"dataframe\">\n",
       "  <thead>\n",
       "    <tr style=\"text-align: right;\">\n",
       "      <th></th>\n",
       "      <th>datetime</th>\n",
       "      <th>duration (seconds)</th>\n",
       "      <th>latitude</th>\n",
       "      <th>longitude</th>\n",
       "    </tr>\n",
       "  </thead>\n",
       "  <tbody>\n",
       "    <tr>\n",
       "      <th>count</th>\n",
       "      <td>67888</td>\n",
       "      <td>6.788800e+04</td>\n",
       "      <td>67888.000000</td>\n",
       "      <td>67888.000000</td>\n",
       "    </tr>\n",
       "    <tr>\n",
       "      <th>mean</th>\n",
       "      <td>2004-08-20 03:50:13.134280064</td>\n",
       "      <td>5.344432e+03</td>\n",
       "      <td>38.391265</td>\n",
       "      <td>-95.006757</td>\n",
       "    </tr>\n",
       "    <tr>\n",
       "      <th>min</th>\n",
       "      <td>1910-06-01 15:00:00</td>\n",
       "      <td>1.000000e-02</td>\n",
       "      <td>25.840278</td>\n",
       "      <td>-124.623611</td>\n",
       "    </tr>\n",
       "    <tr>\n",
       "      <th>25%</th>\n",
       "      <td>2001-10-29 09:07:30</td>\n",
       "      <td>3.000000e+01</td>\n",
       "      <td>34.180833</td>\n",
       "      <td>-112.728889</td>\n",
       "    </tr>\n",
       "    <tr>\n",
       "      <th>50%</th>\n",
       "      <td>2007-04-18 02:53:00</td>\n",
       "      <td>1.800000e+02</td>\n",
       "      <td>38.990556</td>\n",
       "      <td>-89.606528</td>\n",
       "    </tr>\n",
       "    <tr>\n",
       "      <th>75%</th>\n",
       "      <td>2011-08-16 20:10:30</td>\n",
       "      <td>6.000000e+02</td>\n",
       "      <td>41.926944</td>\n",
       "      <td>-80.771736</td>\n",
       "    </tr>\n",
       "    <tr>\n",
       "      <th>max</th>\n",
       "      <td>2014-05-08 00:00:00</td>\n",
       "      <td>6.627600e+07</td>\n",
       "      <td>49.337290</td>\n",
       "      <td>-66.984722</td>\n",
       "    </tr>\n",
       "    <tr>\n",
       "      <th>std</th>\n",
       "      <td>NaN</td>\n",
       "      <td>3.947908e+05</td>\n",
       "      <td>5.139150</td>\n",
       "      <td>17.332243</td>\n",
       "    </tr>\n",
       "  </tbody>\n",
       "</table>\n",
       "</div>"
      ],
      "text/plain": [
       "                            datetime  duration (seconds)      latitude  \\\n",
       "count                          67888        6.788800e+04  67888.000000   \n",
       "mean   2004-08-20 03:50:13.134280064        5.344432e+03     38.391265   \n",
       "min              1910-06-01 15:00:00        1.000000e-02     25.840278   \n",
       "25%              2001-10-29 09:07:30        3.000000e+01     34.180833   \n",
       "50%              2007-04-18 02:53:00        1.800000e+02     38.990556   \n",
       "75%              2011-08-16 20:10:30        6.000000e+02     41.926944   \n",
       "max              2014-05-08 00:00:00        6.627600e+07     49.337290   \n",
       "std                              NaN        3.947908e+05      5.139150   \n",
       "\n",
       "          longitude  \n",
       "count  67888.000000  \n",
       "mean     -95.006757  \n",
       "min     -124.623611  \n",
       "25%     -112.728889  \n",
       "50%      -89.606528  \n",
       "75%      -80.771736  \n",
       "max      -66.984722  \n",
       "std       17.332243  "
      ]
     },
     "execution_count": 14,
     "metadata": {},
     "output_type": "execute_result"
    }
   ],
   "source": [
    "data.describe()"
   ]
  },
  {
   "cell_type": "code",
   "execution_count": 15,
   "id": "f71ff917-95cd-430b-9ec8-222f815fca06",
   "metadata": {},
   "outputs": [],
   "source": [
    "data.to_csv('preprocessfinalproprosal.csv', index=False)"
   ]
  }
 ],
 "metadata": {
  "kernelspec": {
   "display_name": "Python 3 (ipykernel)",
   "language": "python",
   "name": "python3"
  },
  "language_info": {
   "codemirror_mode": {
    "name": "ipython",
    "version": 3
   },
   "file_extension": ".py",
   "mimetype": "text/x-python",
   "name": "python",
   "nbconvert_exporter": "python",
   "pygments_lexer": "ipython3",
   "version": "3.10.6"
  }
 },
 "nbformat": 4,
 "nbformat_minor": 5
}
