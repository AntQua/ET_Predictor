{
 "cells": [
  {
   "cell_type": "markdown",
   "id": "e8503efb-13f5-4178-ba5a-3ded6c402440",
   "metadata": {},
   "source": [
    "# random forest prediction + clustering -ET_project(original \n",
    "\n",
    "\n"
   ]
  },
  {
   "cell_type": "code",
   "execution_count": 1,
   "id": "6033816f-bd99-46cd-9e7a-c8fc71a087c2",
   "metadata": {},
   "outputs": [
    {
     "name": "stdout",
     "output_type": "stream",
     "text": [
      "Requirement already satisfied: basemap in /home/antqua/.pyenv/versions/3.10.6/envs/ET_Predictor/lib/python3.10/site-packages (1.4.1)\n",
      "Requirement already satisfied: basemap-data-hires in /home/antqua/.pyenv/versions/3.10.6/envs/ET_Predictor/lib/python3.10/site-packages (1.3.2)\n",
      "Requirement already satisfied: basemap-data<1.4,>=1.3.2 in /home/antqua/.pyenv/versions/3.10.6/envs/ET_Predictor/lib/python3.10/site-packages (from basemap) (1.3.2)\n",
      "Requirement already satisfied: pyshp<2.4,>=1.2 in /home/antqua/.pyenv/versions/3.10.6/envs/ET_Predictor/lib/python3.10/site-packages (from basemap) (2.3.1)\n",
      "Requirement already satisfied: matplotlib<3.9,>=1.5 in /home/antqua/.pyenv/versions/3.10.6/envs/ET_Predictor/lib/python3.10/site-packages (from basemap) (3.8.4)\n",
      "Requirement already satisfied: pyproj<3.7.0,>=1.9.3 in /home/antqua/.pyenv/versions/3.10.6/envs/ET_Predictor/lib/python3.10/site-packages (from basemap) (3.6.1)\n",
      "Requirement already satisfied: packaging<24.0,>=16.0 in /home/antqua/.pyenv/versions/3.10.6/envs/ET_Predictor/lib/python3.10/site-packages (from basemap) (23.2)\n",
      "Requirement already satisfied: numpy<1.27,>=1.21 in /home/antqua/.pyenv/versions/3.10.6/envs/ET_Predictor/lib/python3.10/site-packages (from basemap) (1.26.4)\n",
      "Requirement already satisfied: contourpy>=1.0.1 in /home/antqua/.pyenv/versions/3.10.6/envs/ET_Predictor/lib/python3.10/site-packages (from matplotlib<3.9,>=1.5->basemap) (1.2.1)\n",
      "Requirement already satisfied: cycler>=0.10 in /home/antqua/.pyenv/versions/3.10.6/envs/ET_Predictor/lib/python3.10/site-packages (from matplotlib<3.9,>=1.5->basemap) (0.12.1)\n",
      "Requirement already satisfied: fonttools>=4.22.0 in /home/antqua/.pyenv/versions/3.10.6/envs/ET_Predictor/lib/python3.10/site-packages (from matplotlib<3.9,>=1.5->basemap) (4.53.0)\n",
      "Requirement already satisfied: kiwisolver>=1.3.1 in /home/antqua/.pyenv/versions/3.10.6/envs/ET_Predictor/lib/python3.10/site-packages (from matplotlib<3.9,>=1.5->basemap) (1.4.5)\n",
      "Requirement already satisfied: pillow>=8 in /home/antqua/.pyenv/versions/3.10.6/envs/ET_Predictor/lib/python3.10/site-packages (from matplotlib<3.9,>=1.5->basemap) (10.3.0)\n",
      "Requirement already satisfied: pyparsing>=2.3.1 in /home/antqua/.pyenv/versions/3.10.6/envs/ET_Predictor/lib/python3.10/site-packages (from matplotlib<3.9,>=1.5->basemap) (3.1.2)\n",
      "Requirement already satisfied: python-dateutil>=2.7 in /home/antqua/.pyenv/versions/3.10.6/envs/ET_Predictor/lib/python3.10/site-packages (from matplotlib<3.9,>=1.5->basemap) (2.9.0.post0)\n",
      "Requirement already satisfied: certifi in /home/antqua/.pyenv/versions/3.10.6/envs/ET_Predictor/lib/python3.10/site-packages (from pyproj<3.7.0,>=1.9.3->basemap) (2024.6.2)\n",
      "Requirement already satisfied: six>=1.5 in /home/antqua/.pyenv/versions/3.10.6/envs/ET_Predictor/lib/python3.10/site-packages (from python-dateutil>=2.7->matplotlib<3.9,>=1.5->basemap) (1.16.0)\n",
      "Note: you may need to restart the kernel to use updated packages.\n"
     ]
    }
   ],
   "source": [
    "pip install basemap basemap-data-hires\n"
   ]
  },
  {
   "cell_type": "code",
   "execution_count": 4,
   "id": "231b3551-f9bb-4ec2-b011-25ef06e82219",
   "metadata": {},
   "outputs": [],
   "source": [
    "import pandas as pd\n",
    "import numpy as np\n",
    "from sklearn.model_selection import train_test_split, StratifiedKFold\n",
    "from sklearn.pipeline import make_pipeline\n",
    "from sklearn.compose import ColumnTransformer\n",
    "from sklearn.impute import SimpleImputer\n",
    "from sklearn.preprocessing import StandardScaler, OneHotEncoder\n",
    "from sklearn.cluster import KMeans\n",
    "from sklearn.neighbors import KNeighborsClassifier\n",
    "from sklearn.metrics import accuracy_score, silhouette_score, median_absolute_error\n",
    "from sklearn.ensemble import RandomForestRegressor\n",
    "import matplotlib.pyplot as plt\n",
    "from mpl_toolkits.basemap import Basemap"
   ]
  },
  {
   "cell_type": "code",
   "execution_count": 5,
   "id": "0148c7f7-6d72-4c73-813d-0b117410ccf7",
   "metadata": {
    "scrolled": true
   },
   "outputs": [],
   "source": [
    "df= pd.read_csv('/home/antqua/code/AntQua/ET_Predictor/Notebooks/preprocessfinalproprosal.csv')"
   ]
  },
  {
   "cell_type": "code",
   "execution_count": 6,
   "id": "325d6233-f2a5-4c3b-bff9-577833b44f2a",
   "metadata": {},
   "outputs": [
    {
     "data": {
      "text/plain": [
       "datetime                 object\n",
       "city                     object\n",
       "state                    object\n",
       "country                  object\n",
       "shape                    object\n",
       "duration (seconds)      float64\n",
       "duration (hours/min)     object\n",
       "comments                 object\n",
       "date posted              object\n",
       "latitude                float64\n",
       "longitude               float64\n",
       "dtype: object"
      ]
     },
     "execution_count": 6,
     "metadata": {},
     "output_type": "execute_result"
    }
   ],
   "source": [
    "df.dtypes"
   ]
  },
  {
   "cell_type": "code",
   "execution_count": 7,
   "id": "066260ea-cc72-48a3-b431-da7b40c79410",
   "metadata": {},
   "outputs": [],
   "source": [
    "# Convert 'datetime' to datetime object, coerce errors\n",
    "df['datetime'] = pd.to_datetime(df['datetime'], errors='coerce')\n",
    "\n",
    "# Extract year, month, day, hour, and minute from datetime\n",
    "df['year'] = df['datetime'].dt.year\n",
    "df['month'] = df['datetime'].dt.month\n",
    "df['day'] = df['datetime'].dt.day\n",
    "df['hour'] = df['datetime'].dt.hour\n",
    "df['minute'] = df['datetime'].dt.minute"
   ]
  },
  {
   "cell_type": "code",
   "execution_count": 8,
   "id": "0f0bef7c-e0fb-4ea9-b9f1-21a4a8f0cc3d",
   "metadata": {},
   "outputs": [
    {
     "data": {
      "text/plain": [
       "datetime                datetime64[ns]\n",
       "city                            object\n",
       "state                           object\n",
       "country                         object\n",
       "shape                           object\n",
       "duration (seconds)             float64\n",
       "duration (hours/min)            object\n",
       "comments                        object\n",
       "date posted                     object\n",
       "latitude                       float64\n",
       "longitude                      float64\n",
       "year                             int32\n",
       "month                            int32\n",
       "day                              int32\n",
       "hour                             int32\n",
       "minute                           int32\n",
       "dtype: object"
      ]
     },
     "execution_count": 8,
     "metadata": {},
     "output_type": "execute_result"
    }
   ],
   "source": [
    "df.dtypes"
   ]
  },
  {
   "cell_type": "markdown",
   "id": "a661eb00-81e0-430e-9fb0-9d9a58b07bd5",
   "metadata": {},
   "source": [
    "#### Defining X and y"
   ]
  },
  {
   "cell_type": "code",
   "execution_count": 9,
   "id": "0708af30-f84b-4d36-ab4f-26938f148c0d",
   "metadata": {},
   "outputs": [],
   "source": [
    "# Drop rows where datetime could not be converted\n",
    "df.dropna(subset=['datetime'], inplace=True)\n",
    "\n",
    "# Define features and target variable\n",
    "X = df.drop(columns=['latitude', 'longitude'])\n",
    "y = df[['latitude', 'longitude']]\n"
   ]
  },
  {
   "cell_type": "code",
   "execution_count": null,
   "id": "5dd32609-db83-48b4-829c-d25c4768c95f",
   "metadata": {},
   "outputs": [],
   "source": [
    "# Define features and target variables\n",
    "features = ['duration (seconds)', 'year', 'month', 'day', 'hour', 'minute']\n",
    "X = df[features]\n",
    "y_lat = df['latitude']\n",
    "y_long = df['longitude']\n",
    "\n",
    "# Split the data into training and test sets\n",
    "X_train, X_test, y_lat_train, y_lat_test, y_long_train, y_long_test = train_test_split(X, y_lat, y_long, test_size=0.2, random_state=42)\n",
    "\n",
    "# Scale the features\n",
    "scaler = StandardScaler()\n",
    "X_train_scaled = scaler.fit_transform(X_train)\n",
    "X_test_scaled = scaler.transform(X_test)\n",
    "\n",
    "# Train Random Forest Regressor models\n",
    "rf_reg_lat = RandomForestRegressor(random_state=42)\n",
    "rf_reg_lat.fit(X_train_scaled, y_lat_train)\n",
    "\n",
    "rf_reg_long = RandomForestRegressor(random_state=42)\n",
    "rf_reg_long.fit(X_train_scaled, y_long_train)"
   ]
  },
  {
   "cell_type": "code",
   "execution_count": 3,
   "id": "ae412597-0520-4ea6-9758-8e614a42b247",
   "metadata": {},
   "outputs": [
    {
     "ename": "NameError",
     "evalue": "name 'rf_reg_lat' is not defined",
     "output_type": "error",
     "traceback": [
      "\u001b[0;31m---------------------------------------------------------------------------\u001b[0m",
      "\u001b[0;31mNameError\u001b[0m                                 Traceback (most recent call last)",
      "Cell \u001b[0;32mIn[3], line 2\u001b[0m\n\u001b[1;32m      1\u001b[0m \u001b[38;5;66;03m# Predict and evaluate the models\u001b[39;00m\n\u001b[0;32m----> 2\u001b[0m y_lat_pred_rf \u001b[38;5;241m=\u001b[39m \u001b[43mrf_reg_lat\u001b[49m\u001b[38;5;241m.\u001b[39mpredict(X_test_scaled)\n\u001b[1;32m      3\u001b[0m y_long_pred_rf \u001b[38;5;241m=\u001b[39m rf_reg_long\u001b[38;5;241m.\u001b[39mpredict(X_test_scaled)\n\u001b[1;32m      5\u001b[0m mae_lat_rf \u001b[38;5;241m=\u001b[39m median_absolute_error(y_lat_test, y_lat_pred_rf)\n",
      "\u001b[0;31mNameError\u001b[0m: name 'rf_reg_lat' is not defined"
     ]
    }
   ],
   "source": [
    "# Predict and evaluate the models\n",
    "y_lat_pred_rf = rf_reg_lat.predict(X_test_scaled)\n",
    "y_long_pred_rf = rf_reg_long.predict(X_test_scaled)\n",
    "\n",
    "mae_lat_rf = median_absolute_error(y_lat_test, y_lat_pred_rf)\n",
    "mae_long_rf = median_absolute_error(y_long_test, y_long_pred_rf)\n",
    "\n",
    "mae_results = {\n",
    "    'Random Forest Latitude MAE': mae_lat_rf,\n",
    "    'Random Forest Longitude MAE': mae_long_rf,\n",
    "}\n",
    "\n",
    "mae_results"
   ]
  },
  {
   "cell_type": "code",
   "execution_count": 10,
   "id": "1a55a836-cd4a-4d29-9fa4-be83b5b489ea",
   "metadata": {},
   "outputs": [
    {
     "name": "stdout",
     "output_type": "stream",
     "text": [
      "Predicted location (Random Forest): (37.969950591999975, -90.78647178599998)\n"
     ]
    }
   ],
   "source": [
    "# Example prediction for a future chosen date\n",
    "future_date = pd.to_datetime('2024-10-04 00:00:00')\n",
    "future_duration = 120  # example duration in seconds\n",
    "\n",
    "future_features = pd.DataFrame({\n",
    "    'duration (seconds)': [future_duration],\n",
    "    'year': [future_date.year],\n",
    "    'month': [future_date.month],\n",
    "    'day': [future_date.day],\n",
    "    'hour': [future_date.hour],\n",
    "    'minute': [future_date.minute]\n",
    "})\n",
    "\n",
    "future_features_scaled = scaler.transform(future_features)\n",
    "\n",
    "# Predict latitude and longitude using both models\n",
    "predicted_lat_rf = rf_reg_lat.predict(future_features_scaled)\n",
    "predicted_long_rf = rf_reg_long.predict(future_features_scaled)\n",
    "\n",
    "predicted_location_rf = (predicted_lat_rf[0], predicted_long_rf[0])\n",
    "\n",
    "print(f\"Predicted location (Random Forest): {predicted_location_rf}\")"
   ]
  },
  {
   "cell_type": "code",
   "execution_count": 2,
   "id": "3a248337-90bb-4994-8fd5-18c29b988590",
   "metadata": {},
   "outputs": [
    {
     "ename": "NameError",
     "evalue": "name 'predicted_lat_rf' is not defined",
     "output_type": "error",
     "traceback": [
      "\u001b[0;31m---------------------------------------------------------------------------\u001b[0m",
      "\u001b[0;31mNameError\u001b[0m                                 Traceback (most recent call last)",
      "Cell \u001b[0;32mIn[2], line 4\u001b[0m\n\u001b[1;32m      1\u001b[0m \u001b[38;5;28;01mimport\u001b[39;00m \u001b[38;5;21;01mmatplotlib\u001b[39;00m\u001b[38;5;21;01m.\u001b[39;00m\u001b[38;5;21;01mpyplot\u001b[39;00m \u001b[38;5;28;01mas\u001b[39;00m \u001b[38;5;21;01mplt\u001b[39;00m\n\u001b[1;32m      2\u001b[0m \u001b[38;5;28;01mfrom\u001b[39;00m \u001b[38;5;21;01mmpl_toolkits\u001b[39;00m\u001b[38;5;21;01m.\u001b[39;00m\u001b[38;5;21;01mbasemap\u001b[39;00m \u001b[38;5;28;01mimport\u001b[39;00m Basemap\n\u001b[0;32m----> 4\u001b[0m predicted_location_rf \u001b[38;5;241m=\u001b[39m (\u001b[43mpredicted_lat_rf\u001b[49m, predicted_long_rf)\n\u001b[1;32m      6\u001b[0m \u001b[38;5;66;03m# Create a figure\u001b[39;00m\n\u001b[1;32m      7\u001b[0m plt\u001b[38;5;241m.\u001b[39mfigure(figsize\u001b[38;5;241m=\u001b[39m(\u001b[38;5;241m15\u001b[39m, \u001b[38;5;241m6\u001b[39m))\n",
      "\u001b[0;31mNameError\u001b[0m: name 'predicted_lat_rf' is not defined"
     ]
    }
   ],
   "source": [
    "import matplotlib.pyplot as plt\n",
    "from mpl_toolkits.basemap import Basemap\n",
    "\n",
    "predicted_location_rf = (predicted_lat_rf, predicted_long_rf)\n",
    "\n",
    "# Create a figure\n",
    "plt.figure(figsize=(15, 6))\n",
    "\n",
    "# Create a Basemap instance with a larger scale\n",
    "m = Basemap(projection='merc', llcrnrlat=predicted_lat_rf-15, urcrnrlat=predicted_lat_rf+15,\n",
    "            llcrnrlon=predicted_long_rf-30, urcrnrlon=predicted_long_rf+30, resolution='i')\n",
    "\n",
    "# Draw coastlines and countries\n",
    "m.drawcoastlines()\n",
    "m.drawcountries()\n",
    "\n",
    "# Convert latitude and longitude to map projection coordinates\n",
    "x, y = m(predicted_long_rf, predicted_lat_rf)\n",
    "\n",
    "# Plot the predicted location\n",
    "m.plot(x, y, 'bo', markersize=12)\n",
    "plt.text(x, y, '   <---------', fontsize=12, ha='left', va='center', color='red')\n",
    "\n",
    "# Add title\n",
    "plt.title('Predicted UFO Location on Map')\n",
    "\n",
    "# Show the plot\n",
    "plt.show()"
   ]
  },
  {
   "cell_type": "code",
   "execution_count": null,
   "id": "c2f89f85-75fa-4dc5-9ab8-d8c46784a00d",
   "metadata": {},
   "outputs": [],
   "source": []
  },
  {
   "cell_type": "code",
   "execution_count": 1,
   "id": "d3615c64-b5e0-434e-a547-70732b9b98f3",
   "metadata": {},
   "outputs": [
    {
     "ename": "NameError",
     "evalue": "name 'predicted_lat_rf' is not defined",
     "output_type": "error",
     "traceback": [
      "\u001b[0;31m---------------------------------------------------------------------------\u001b[0m",
      "\u001b[0;31mNameError\u001b[0m                                 Traceback (most recent call last)",
      "Cell \u001b[0;32mIn[1], line 1\u001b[0m\n\u001b[0;32m----> 1\u001b[0m predicted_location_rf \u001b[38;5;241m=\u001b[39m (\u001b[43mpredicted_lat_rf\u001b[49m[\u001b[38;5;241m0\u001b[39m], predicted_long_rf[\u001b[38;5;241m0\u001b[39m])\n\u001b[1;32m      3\u001b[0m predicted_location_rf\n",
      "\u001b[0;31mNameError\u001b[0m: name 'predicted_lat_rf' is not defined"
     ]
    }
   ],
   "source": [
    "predicted_location_rf = (predicted_lat_rf[0], predicted_long_rf[0])\n",
    "\n",
    "predicted_location_rf"
   ]
  },
  {
   "cell_type": "code",
   "execution_count": null,
   "id": "b04c0eca-4db6-493f-aac3-49978589ea1b",
   "metadata": {},
   "outputs": [],
   "source": [
    "from sklearn.preprocessing import StandardScaler, LabelEncoder\n",
    "from sklearn.cluster import DBSCAN\n",
    "import numpy as np\n",
    "import pandas as pd\n",
    "\n",
    "\n",
    "# Select features for DBSCAN\n",
    "features = df[['latitude', 'longitude', 'duration (seconds)']]\n",
    "\n",
    "# Standardize the features\n",
    "scaler = StandardScaler()\n",
    "features_scaled = scaler.fit_transform(features)\n",
    "\n",
    "# Encode the 'shape' column\n",
    "label_encoder = LabelEncoder()\n",
    "df['shape_encoded'] = label_encoder.fit_transform(df['shape'])\n",
    "\n",
    "# Fit DBSCAN model\n",
    "dbscan = DBSCAN(eps=0.5, min_samples=5)\n",
    "df['cluster'] = dbscan.fit_predict(features_scaled)\n",
    "\n",
    "# Predicted location (example values, replace with your actual predictions)\n",
    "predicted_location_rf = (predicted_lat_rf[0], predicted_long_rf[0])\n",
    "\n",
    "# Scale the predicted location\n",
    "predicted_location_scaled = scaler.transform([[predicted_location_rf[0], predicted_location_rf[1], 0]])  # Adding a dummy duration value\n",
    "\n",
    "# Predict the cluster for the predicted location\n",
    "predicted_cluster = dbscan.fit_predict(np.vstack((features_scaled, predicted_location_scaled)))\n",
    "\n",
    "# Get the cluster label for the predicted location\n",
    "predicted_location_cluster_label = predicted_cluster[-1]\n",
    "\n",
    "# Filter data to the predicted cluster\n",
    "cluster_data = df[df['cluster'] == predicted_location_cluster_label]\n",
    "\n",
    "# Find the most frequent shape\n",
    "most_frequent_shape = cluster_data['shape'].mode().values[0]\n",
    "\n",
    "# Calculate the average duration\n",
    "average_duration = cluster_data['duration (seconds)'].mean()\n",
    "\n",
    "# Output the results\n",
    "print(f\"Predicted shape: {most_frequent_shape}\")\n",
    "print(f\"Average duration: {average_duration} seconds\")\n",
    "\n"
   ]
  },
  {
   "cell_type": "code",
   "execution_count": null,
   "id": "c9886721-1ee5-4392-857e-be0c040ba8e8",
   "metadata": {},
   "outputs": [],
   "source": []
  }
 ],
 "metadata": {
  "kernelspec": {
   "display_name": "Python 3 (ipykernel)",
   "language": "python",
   "name": "python3"
  },
  "language_info": {
   "codemirror_mode": {
    "name": "ipython",
    "version": 3
   },
   "file_extension": ".py",
   "mimetype": "text/x-python",
   "name": "python",
   "nbconvert_exporter": "python",
   "pygments_lexer": "ipython3",
   "version": "3.10.6"
  }
 },
 "nbformat": 4,
 "nbformat_minor": 5
}
