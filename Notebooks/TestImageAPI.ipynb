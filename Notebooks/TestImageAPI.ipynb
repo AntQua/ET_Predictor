{
 "cells": [
  {
   "cell_type": "code",
   "execution_count": 2,
   "id": "4f5b76f5-c0d0-4dbb-b588-ebee654e1625",
   "metadata": {},
   "outputs": [
    {
     "name": "stdout",
     "output_type": "stream",
     "text": [
      "Error: 401 - {\n",
      "  \"error\": {\n",
      "    \"code\": \"invalid_api_key\",\n",
      "    \"message\": \"Incorrect API key provided: APIKEYHERE. You can find your API key at https://platform.openai.com/account/api-keys.\",\n",
      "    \"param\": null,\n",
      "    \"type\": \"invalid_request_error\"\n",
      "  }\n",
      "}\n",
      "\n"
     ]
    }
   ],
   "source": [
    "# Import Libraries and Set Up API Key\n",
    "import requests\n",
    "import json\n",
    "from PIL import Image\n",
    "from io import BytesIO\n",
    "# Replace with your actual OpenAI API key\n",
    "API_KEY = 'APIKEYHERE'\n",
    "# Define Functions\n",
    "def generate_ufo_image(description):\n",
    "    url = \"https://api.openai.com/v1/images/generations\"\n",
    "    headers = {\n",
    "        \"Authorization\": f\"Bearer {API_KEY}\",\n",
    "        \"Content-Type\": \"application/json\"\n",
    "    }\n",
    "    data = {\n",
    "        \"prompt\": description,\n",
    "        \"n\": 1,\n",
    "        \"size\": \"1024x1024\"\n",
    "    }\n",
    "    response = requests.post(url, headers=headers, data=json.dumps(data))\n",
    "    if response.status_code == 200:\n",
    "        response_data = response.json()\n",
    "        image_url = response_data['data'][0]['url']\n",
    "        return image_url\n",
    "    else:\n",
    "        print(f\"Error: {response.status_code} - {response.text}\")\n",
    "        return None\n",
    "def save_image(image_url, filename):\n",
    "    image_response = requests.get(image_url)\n",
    "    if image_response.status_code == 200:\n",
    "        with open(filename, 'wb') as file:\n",
    "            file.write(image_response.content)\n",
    "        print(f\"Image saved as {filename}\")\n",
    "    else:\n",
    "        print(f\"Error: Unable to download image from {image_url}\")\n",
    "def display_image_from_url(image_url):\n",
    "    response = requests.get(image_url)\n",
    "    img = Image.open(BytesIO(response.content))\n",
    "    return img\n",
    "# Generate and Display a UFO Image\n",
    "description = \"A futuristic triangular shaped UFO hovering over the mountain landscape at night in the desert near a space observatory\"\n",
    "image_url = generate_ufo_image(description)\n",
    "if image_url:\n",
    "    save_image(image_url, \"ufo_image.png\")\n",
    "    img = display_image_from_url(image_url)\n",
    "    img.show()\n",
    "\n",
    "\n",
    "\n",
    "\n",
    "\n",
    "\n",
    "\n",
    "\n",
    "\n",
    "\n"
   ]
  },
  {
   "cell_type": "code",
   "execution_count": null,
   "id": "edf27aea-b379-46f3-90b1-b5ec85f71a9a",
   "metadata": {},
   "outputs": [],
   "source": []
  }
 ],
 "metadata": {
  "kernelspec": {
   "display_name": "Python 3 (ipykernel)",
   "language": "python",
   "name": "python3"
  },
  "language_info": {
   "codemirror_mode": {
    "name": "ipython",
    "version": 3
   },
   "file_extension": ".py",
   "mimetype": "text/x-python",
   "name": "python",
   "nbconvert_exporter": "python",
   "pygments_lexer": "ipython3",
   "version": "3.10.6"
  }
 },
 "nbformat": 4,
 "nbformat_minor": 5
}
